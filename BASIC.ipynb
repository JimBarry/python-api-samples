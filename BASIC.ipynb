{
 "cells": [
  {
   "cell_type": "code",
   "execution_count": 1,
   "metadata": {},
   "outputs": [],
   "source": [
    "from arcgis.gis import GIS\n",
    "from IPython.display import display"
   ]
  },
  {
   "cell_type": "code",
   "execution_count": 2,
   "metadata": {},
   "outputs": [],
   "source": [
    "gis = GIS(\"https://xxx.maps.arcgis.com\", username=\"xxx\", password=\"xxx\")"
   ]
  },
  {
   "cell_type": "code",
   "execution_count": 3,
   "metadata": {},
   "outputs": [
    {
     "data": {
      "text/plain": [
       "[<Item title:\"Class I Railroads\" type:Feature Layer Collection owner:jbarry_rail>,\n",
       " <Item title:\"Short_Line_RR\" type:Feature Layer Collection owner:jbarry_rail>]"
      ]
     },
     "execution_count": 3,
     "metadata": {},
     "output_type": "execute_result"
    }
   ],
   "source": [
    "my_content = gis.content.search(\"xxx\", item_type=\"Feature Layer\")\n",
    "my_content"
   ]
  },
  {
   "cell_type": "code",
   "execution_count": 4,
   "metadata": {},
   "outputs": [
    {
     "data": {
      "text/html": [
       "<div class=\"item_container\" style=\"height: auto; overflow: hidden; border: 1px solid #cfcfcf; border-radius: 2px; background: #f6fafa; line-height: 1.21429em; padding: 10px;\">\n",
       "                    <div class=\"item_left\" style=\"width: 210px; float: left;\">\n",
       "                       <a href='https://esrirail.maps.arcgis.com/home/item.html?id=ea5c29dbc0bf45aa92e147d112cbbacb' target='_blank'>\n",
       "                        <img src='data:image/png;base64,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' width='200' height='133' class=\"itemThumbnail\">\n",
       "                       </a>\n",
       "                    </div>\n",
       "\n",
       "                    <div class=\"item_right\"     style=\"float: none; width: auto; overflow: hidden;\">\n",
       "                        <a href='https://esrirail.maps.arcgis.com/home/item.html?id=ea5c29dbc0bf45aa92e147d112cbbacb' target='_blank'><b>Class I Railroads</b>\n",
       "                        </a>\n",
       "                        <br/><img src='https://esrirail.maps.arcgis.com/home/js/jsapi/esri/css/images/item_type_icons/featureshosted16.png' style=\"vertical-align:middle;\">Feature Layer Collection by jbarry_rail\n",
       "                        <br/>Last Modified: April 08, 2020\n",
       "                        <br/>0 comments, 9 views\n",
       "                    </div>\n",
       "                </div>\n",
       "                "
      ],
      "text/plain": [
       "<Item title:\"Class I Railroads\" type:Feature Layer Collection owner:jbarry_rail>"
      ]
     },
     "metadata": {},
     "output_type": "display_data"
    },
    {
     "data": {
      "text/html": [
       "<div class=\"item_container\" style=\"height: auto; overflow: hidden; border: 1px solid #cfcfcf; border-radius: 2px; background: #f6fafa; line-height: 1.21429em; padding: 10px;\">\n",
       "                    <div class=\"item_left\" style=\"width: 210px; float: left;\">\n",
       "                       <a href='https://esrirail.maps.arcgis.com/home/item.html?id=a80e7099460a4a86bda5bf5208566027' target='_blank'>\n",
       "                        <img src='data:image/png;base64,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' width='200' height='133' class=\"itemThumbnail\">\n",
       "                       </a>\n",
       "                    </div>\n",
       "\n",
       "                    <div class=\"item_right\"     style=\"float: none; width: auto; overflow: hidden;\">\n",
       "                        <a href='https://esrirail.maps.arcgis.com/home/item.html?id=a80e7099460a4a86bda5bf5208566027' target='_blank'><b>Short_Line_RR</b>\n",
       "                        </a>\n",
       "                        <br/><img src='https://esrirail.maps.arcgis.com/home/js/jsapi/esri/css/images/item_type_icons/featureshosted16.png' style=\"vertical-align:middle;\">Feature Layer Collection by jbarry_rail\n",
       "                        <br/>Last Modified: April 08, 2020\n",
       "                        <br/>0 comments, 2 views\n",
       "                    </div>\n",
       "                </div>\n",
       "                "
      ],
      "text/plain": [
       "<Item title:\"Short_Line_RR\" type:Feature Layer Collection owner:jbarry_rail>"
      ]
     },
     "metadata": {},
     "output_type": "display_data"
    }
   ],
   "source": [
    "for item in my_content:\n",
    "    display(item)"
   ]
  },
  {
   "cell_type": "code",
   "execution_count": 5,
   "metadata": {},
   "outputs": [
    {
     "data": {
      "text/html": [
       "<div class=\"item_container\" style=\"height: auto; overflow: hidden; border: 1px solid #cfcfcf; border-radius: 2px; background: #f6fafa; line-height: 1.21429em; padding: 10px;\">\n",
       "                    <div class=\"item_left\" style=\"width: 210px; float: left;\">\n",
       "                       <a href='https://esrirail.maps.arcgis.com/home/item.html?id=ea5c29dbc0bf45aa92e147d112cbbacb' target='_blank'>\n",
       "                        <img src='data:image/png;base64,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' width='200' height='133' class=\"itemThumbnail\">\n",
       "                       </a>\n",
       "                    </div>\n",
       "\n",
       "                    <div class=\"item_right\"     style=\"float: none; width: auto; overflow: hidden;\">\n",
       "                        <a href='https://esrirail.maps.arcgis.com/home/item.html?id=ea5c29dbc0bf45aa92e147d112cbbacb' target='_blank'><b>Class I Railroads</b>\n",
       "                        </a>\n",
       "                        <br/><img src='https://esrirail.maps.arcgis.com/home/js/jsapi/esri/css/images/item_type_icons/featureshosted16.png' style=\"vertical-align:middle;\">Feature Layer Collection by jbarry_rail\n",
       "                        <br/>Last Modified: April 08, 2020\n",
       "                        <br/>0 comments, 9 views\n",
       "                    </div>\n",
       "                </div>\n",
       "                "
      ],
      "text/plain": [
       "<Item title:\"Class I Railroads\" type:Feature Layer Collection owner:jbarry_rail>"
      ]
     },
     "metadata": {},
     "output_type": "display_data"
    }
   ],
   "source": [
    "first_item = my_content[0]\n",
    "display(first_item)"
   ]
  },
  {
   "cell_type": "code",
   "execution_count": 6,
   "metadata": {},
   "outputs": [
    {
     "data": {
      "application/vnd.jupyter.widget-view+json": {
       "model_id": "a31cd5a671e54271b6a53db021137639",
       "version_major": 2,
       "version_minor": 0
      },
      "text/plain": [
       "MapView(layout=Layout(height='400px', width='100%'))"
      ]
     },
     "metadata": {},
     "output_type": "display_data"
    },
    {
     "data": {
      "text/html": [
       "<div class=\"map-static-img-preview-fe4932bc-a2eb-4707-b5ae-3bd77f8a34c5\"><img src=\"\"></img></div>"
      ],
      "text/plain": [
       "<IPython.core.display.HTML object>"
      ]
     },
     "metadata": {},
     "output_type": "display_data"
    }
   ],
   "source": [
    "map1 = gis.map()\n",
    "map1.extent = first_item.extent\n",
    "map1"
   ]
  },
  {
   "cell_type": "code",
   "execution_count": 7,
   "metadata": {},
   "outputs": [],
   "source": [
    "map1.add_layer(first_item)"
   ]
  },
  {
   "cell_type": "code",
   "execution_count": null,
   "metadata": {},
   "outputs": [],
   "source": []
  }
 ],
 "metadata": {
  "kernelspec": {
   "display_name": "Python 3",
   "language": "python",
   "name": "python3"
  },
  "language_info": {
   "codemirror_mode": {
    "name": "ipython",
    "version": 3
   },
   "file_extension": ".py",
   "mimetype": "text/x-python",
   "name": "python",
   "nbconvert_exporter": "python",
   "pygments_lexer": "ipython3",
   "version": "3.7.4"
  }
 },
 "nbformat": 4,
 "nbformat_minor": 2
}
